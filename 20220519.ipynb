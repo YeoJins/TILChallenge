{
 "cells": [
  {
   "cell_type": "code",
   "execution_count": null,
   "id": "ba08c8ba",
   "metadata": {},
   "outputs": [],
   "source": [
    "class CustomDataset(torch.utils.data.Dataset):\n",
    "  def __init__(self):\n",
    "\t   #데이터셋의 전처리를 해주는 부분\n",
    "\n",
    "  def __len__(self):\n",
    "\t   #데이터셋의 길이(총 샘플의 수)를 적어주는 부분\n",
    "\n",
    "  def __getitem__(self, idx):\n",
    "     #데이터셋에서 특정 1개의 샘플을 가져오는 함수"
   ]
  },
  {
   "cell_type": "code",
   "execution_count": 8,
   "id": "2111ef7c",
   "metadata": {},
   "outputs": [],
   "source": [
    "import torch\n",
    "import torch.nn.functional as F\n",
    "from torch.utils.data import Dataset\n",
    "from torch.utils.data import DataLoader\n",
    "\n",
    "class CustomDataset(Dataset):\n",
    "    def __init__(self):\n",
    "        self.x_data = [[73, 80, 75],\n",
    "                   [93, 88, 93],\n",
    "                   [89, 91, 90],\n",
    "                   [96, 98, 100],\n",
    "                   [73, 66, 70]]\n",
    "        self.y_data = [[152], [185], [180], [196], [142]]\n",
    "\n",
    "    def __len__(self):\n",
    "        return len(self.x_data)\n",
    "\n",
    "    def __getitem__(self,idx):\n",
    "        x = torch.FloatTensor(self.x_data[idx])\n",
    "        y = torch.FloatTensor(self.y_data[idx])\n",
    "        return x,y"
   ]
  },
  {
   "cell_type": "code",
   "execution_count": 9,
   "id": "d075e6b3",
   "metadata": {},
   "outputs": [],
   "source": [
    "dataset = CustomDataset()\n",
    "dataloader = DataLoader(dataset, batch_size=2, shuffle=True)\n",
    "model = torch.nn.Linear(3,1)\n",
    "optimizer = torch.optim.SGD(model.parameters(), lr=1e-5)"
   ]
  },
  {
   "cell_type": "code",
   "execution_count": 13,
   "id": "761e1f42",
   "metadata": {},
   "outputs": [
    {
     "name": "stdout",
     "output_type": "stream",
     "text": [
      "Epoch    0/20 Batch 3/3 Cost: 6.510689\n",
      "Epoch    1/20 Batch 3/3 Cost: 1.345396\n",
      "Epoch    2/20 Batch 3/3 Cost: 1.602579\n",
      "Epoch    3/20 Batch 3/3 Cost: 3.096453\n",
      "Epoch    4/20 Batch 3/3 Cost: 1.721775\n",
      "Epoch    5/20 Batch 3/3 Cost: 1.804803\n",
      "Epoch    6/20 Batch 3/3 Cost: 1.363901\n",
      "Epoch    7/20 Batch 3/3 Cost: 1.603661\n",
      "Epoch    8/20 Batch 3/3 Cost: 1.457809\n",
      "Epoch    9/20 Batch 3/3 Cost: 4.176839\n",
      "Epoch   10/20 Batch 3/3 Cost: 2.890872\n",
      "Epoch   11/20 Batch 3/3 Cost: 1.005990\n",
      "Epoch   12/20 Batch 3/3 Cost: 1.557431\n",
      "Epoch   13/20 Batch 3/3 Cost: 0.021035\n",
      "Epoch   14/20 Batch 3/3 Cost: 3.771191\n",
      "Epoch   15/20 Batch 3/3 Cost: 4.060776\n",
      "Epoch   16/20 Batch 3/3 Cost: 6.118784\n",
      "Epoch   17/20 Batch 3/3 Cost: 5.955250\n",
      "Epoch   18/20 Batch 3/3 Cost: 0.597804\n",
      "Epoch   19/20 Batch 3/3 Cost: 3.895468\n",
      "Epoch   20/20 Batch 3/3 Cost: 2.803386\n"
     ]
    }
   ],
   "source": [
    "nb_epochs = 20\n",
    "for epoch in range(nb_epochs + 1):\n",
    "    for batch_idx, samples in enumerate(dataloader):\n",
    "    # print(batch_idx)\n",
    "    # print(samples)\n",
    "     x_train, y_train = samples\n",
    "    # H(x) 계산\n",
    "    prediction = model(x_train)\n",
    "\n",
    "    # cost 계산\n",
    "    cost = F.mse_loss(prediction, y_train)\n",
    "\n",
    "    # cost로 H(x) 계산\n",
    "    optimizer.zero_grad()\n",
    "    cost.backward()\n",
    "    optimizer.step()\n",
    "\n",
    "    print('Epoch {:4d}/{} Batch {}/{} Cost: {:.6f}'.format(\n",
    "        epoch, nb_epochs, batch_idx+1, len(dataloader),\n",
    "        cost.item()\n",
    "        ))"
   ]
  },
  {
   "cell_type": "code",
   "execution_count": 14,
   "id": "61a56cd6",
   "metadata": {},
   "outputs": [
    {
     "name": "stdout",
     "output_type": "stream",
     "text": [
      "예측값:  tensor([[152.4434]], grad_fn=<AddmmBackward0>)\n"
     ]
    }
   ],
   "source": [
    "new_var = torch.FloatTensor([[73,80,75]])\n",
    "pred_y = model(new_var)\n",
    "print('예측값: ',pred_y)"
   ]
  },
  {
   "cell_type": "code",
   "execution_count": null,
   "id": "9a1c9ce6",
   "metadata": {},
   "outputs": [],
   "source": []
  }
 ],
 "metadata": {
  "kernelspec": {
   "display_name": "Python 3 (ipykernel)",
   "language": "python",
   "name": "python3"
  },
  "language_info": {
   "codemirror_mode": {
    "name": "ipython",
    "version": 3
   },
   "file_extension": ".py",
   "mimetype": "text/x-python",
   "name": "python",
   "nbconvert_exporter": "python",
   "pygments_lexer": "ipython3",
   "version": "3.9.12"
  }
 },
 "nbformat": 4,
 "nbformat_minor": 5
}
