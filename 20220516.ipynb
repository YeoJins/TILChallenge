{
 "cells": [
  {
   "cell_type": "markdown",
   "id": "5aae6cdd",
   "metadata": {},
   "source": [
    "## _Linear Regression_  \n",
    "선형 회귀를 파이토치로 구현"
   ]
  },
  {
   "cell_type": "code",
   "execution_count": 1,
   "id": "6ec6296f",
   "metadata": {},
   "outputs": [],
   "source": [
    "import torch\n",
    "import numpy as np\n",
    "import torch.nn as nn\n",
    "import torch.nn.functional as F\n",
    "import torch.optim as optim"
   ]
  },
  {
   "cell_type": "code",
   "execution_count": 49,
   "id": "d3534de6",
   "metadata": {},
   "outputs": [
    {
     "data": {
      "text/plain": [
       "<torch._C.Generator at 0x7f96021c6430>"
      ]
     },
     "execution_count": 49,
     "metadata": {},
     "output_type": "execute_result"
    }
   ],
   "source": [
    "torch.manual_seed(1) #다음에 다시 실행해도 똑같은 결과가 나오게 하기 위함"
   ]
  },
  {
   "cell_type": "code",
   "execution_count": 19,
   "id": "2328ce61",
   "metadata": {},
   "outputs": [],
   "source": [
    "x_train = torch.FloatTensor([[1],[2],[3]])\n",
    "y_train = torch.FloatTensor(([2],[4],[6]))"
   ]
  },
  {
   "cell_type": "code",
   "execution_count": 4,
   "id": "7f52bea7",
   "metadata": {},
   "outputs": [
    {
     "name": "stdout",
     "output_type": "stream",
     "text": [
      "tensor([[1.],\n",
      "        [2.],\n",
      "        [3.]])\n",
      "torch.Size([3, 1])\n"
     ]
    }
   ],
   "source": [
    "print(x_train)\n",
    "print(x_train.shape)"
   ]
  },
  {
   "cell_type": "code",
   "execution_count": 5,
   "id": "4b402659",
   "metadata": {},
   "outputs": [
    {
     "name": "stdout",
     "output_type": "stream",
     "text": [
      "tensor([[2.],\n",
      "        [4.],\n",
      "        [6.]])\n",
      "torch.Size([3, 1])\n"
     ]
    }
   ],
   "source": [
    "print(y_train)\n",
    "print(y_train.shape)"
   ]
  },
  {
   "cell_type": "code",
   "execution_count": 6,
   "id": "058d3297",
   "metadata": {},
   "outputs": [],
   "source": [
    "#선형 회귀의 목표 - 가장 잘 맞는 W(가중치)와 b(편향,bias)를 찾는 것"
   ]
  },
  {
   "cell_type": "code",
   "execution_count": 20,
   "id": "e4bacd8b",
   "metadata": {},
   "outputs": [],
   "source": [
    "W = torch.zeros(1,requires_grad=True) # 가중치 0으로 초기화, 학습을 통해 값이 변경됨을 명시"
   ]
  },
  {
   "cell_type": "code",
   "execution_count": 8,
   "id": "4db71e20",
   "metadata": {},
   "outputs": [
    {
     "name": "stdout",
     "output_type": "stream",
     "text": [
      "tensor([0.], requires_grad=True)\n"
     ]
    }
   ],
   "source": [
    "print(W)"
   ]
  },
  {
   "cell_type": "code",
   "execution_count": 21,
   "id": "7108829f",
   "metadata": {},
   "outputs": [
    {
     "name": "stdout",
     "output_type": "stream",
     "text": [
      "tensor([0.], requires_grad=True)\n"
     ]
    }
   ],
   "source": [
    "b = torch.zeros(1, requires_grad=True)\n",
    "print(b)"
   ]
  },
  {
   "cell_type": "code",
   "execution_count": 10,
   "id": "3f507db1",
   "metadata": {},
   "outputs": [
    {
     "name": "stdout",
     "output_type": "stream",
     "text": [
      "tensor([[0.],\n",
      "        [0.],\n",
      "        [0.]], grad_fn=<AddBackward0>)\n"
     ]
    }
   ],
   "source": [
    "hypothesis = x_train * W + b #가설 선언\n",
    "print(hypothesis)"
   ]
  },
  {
   "cell_type": "code",
   "execution_count": 11,
   "id": "b1959752",
   "metadata": {},
   "outputs": [
    {
     "name": "stdout",
     "output_type": "stream",
     "text": [
      "tensor(18.6667, grad_fn=<MeanBackward0>)\n"
     ]
    }
   ],
   "source": [
    "cost = torch.mean((hypothesis - y_train)**2) # 평균제곱오차(mse) 선언\n",
    "print(cost)"
   ]
  },
  {
   "cell_type": "code",
   "execution_count": 22,
   "id": "2866453c",
   "metadata": {},
   "outputs": [],
   "source": [
    "#경사 하강법(gradient Descent)구현\n",
    "optimizer = optim.SGD([W,b],lr=0.01) #SGD는 경사하강법의 일종, Lr는 학습률(learning rate)"
   ]
  },
  {
   "cell_type": "code",
   "execution_count": 13,
   "id": "4cea1d64",
   "metadata": {},
   "outputs": [],
   "source": [
    "optimizer.zero_grad() # grad를 0으로 초기화\n",
    "cost.backward() # 비용함수(cost) 미분하여 grad 계산\n",
    "optimizer.step() # W와 b를 업데이트"
   ]
  },
  {
   "cell_type": "code",
   "execution_count": 26,
   "id": "741ac468",
   "metadata": {},
   "outputs": [
    {
     "name": "stdout",
     "output_type": "stream",
     "text": [
      "Epoch    0/2000 W: 0.187, b: 0.080 Cost: 18.666666\n",
      "Epoch  100/2000 W: 1.746, b: 0.578 Cost: 0.048171\n",
      "Epoch  200/2000 W: 1.800, b: 0.454 Cost: 0.029767\n",
      "Epoch  300/2000 W: 1.843, b: 0.357 Cost: 0.018394\n",
      "Epoch  400/2000 W: 1.876, b: 0.281 Cost: 0.011366\n",
      "Epoch  500/2000 W: 1.903, b: 0.221 Cost: 0.007024\n",
      "Epoch  600/2000 W: 1.924, b: 0.174 Cost: 0.004340\n",
      "Epoch  700/2000 W: 1.940, b: 0.136 Cost: 0.002682\n",
      "Epoch  800/2000 W: 1.953, b: 0.107 Cost: 0.001657\n",
      "Epoch  900/2000 W: 1.963, b: 0.084 Cost: 0.001024\n",
      "Epoch 1000/2000 W: 1.971, b: 0.066 Cost: 0.000633\n",
      "Epoch 1100/2000 W: 1.977, b: 0.052 Cost: 0.000391\n",
      "Epoch 1200/2000 W: 1.982, b: 0.041 Cost: 0.000242\n",
      "Epoch 1300/2000 W: 1.986, b: 0.032 Cost: 0.000149\n",
      "Epoch 1400/2000 W: 1.989, b: 0.025 Cost: 0.000092\n",
      "Epoch 1500/2000 W: 1.991, b: 0.020 Cost: 0.000057\n",
      "Epoch 1600/2000 W: 1.993, b: 0.016 Cost: 0.000035\n",
      "Epoch 1700/2000 W: 1.995, b: 0.012 Cost: 0.000022\n",
      "Epoch 1800/2000 W: 1.996, b: 0.010 Cost: 0.000013\n",
      "Epoch 1900/2000 W: 1.997, b: 0.008 Cost: 0.000008\n",
      "Epoch 2000/2000 W: 1.997, b: 0.006 Cost: 0.000005\n"
     ]
    }
   ],
   "source": [
    "x_train = torch.FloatTensor([[1],[2],[3]])\n",
    "y_train = torch.FloatTensor(([2],[4],[6]))\n",
    "\n",
    "W = torch.zeros(1, requires_grad =True)\n",
    "b = torch.zeros(1, requires_grad =True)\n",
    "\n",
    "optimizer = optim.SGD([W,b],lr=0.01)\n",
    "\n",
    "nb_epochs = 2000 # 반복 횟수\n",
    "for epoch in range(nb_epochs + 1):\n",
    "    hypothesis = x_train * W + b #가설 선언\n",
    "    cost = torch.mean((hypothesis - y_train)**2) # 평균제곱오차(mse) 선언\n",
    "    optimizer.zero_grad() # grad를 0으로 초기화\n",
    "    cost.backward() # 비용함수(cost) 미분하여 grad 계산\n",
    "    optimizer.step() # W와 b를 업데이트\n",
    "    \n",
    "    if epoch % 100 ==0:\n",
    "        print('Epoch {:4d}/{} W: {:.3f}, b: {:.3f} Cost: {:.6f}'.format(epoch,nb_epochs,W.item(),b.item(),cost.item()))"
   ]
  },
  {
   "cell_type": "code",
   "execution_count": 27,
   "id": "b6de2520",
   "metadata": {},
   "outputs": [],
   "source": [
    "#epoch는 전체 훈련 데이터가 학습에 한번 활용된 주기를 말한다. 위 코드는 2000번 수행하였다.\n",
    "#결과를 보면 최적의 기울기 W는 2에 가깝고 b는 0에 가까운 것을 볼 수 있다."
   ]
  },
  {
   "cell_type": "code",
   "execution_count": 28,
   "id": "ba67182c",
   "metadata": {},
   "outputs": [
    {
     "name": "stdout",
     "output_type": "stream",
     "text": [
      "수식을 w로 미분한 값: 2.0\n",
      "수식을 w로 미분한 값: 4.0\n",
      "수식을 w로 미분한 값: 6.0\n",
      "수식을 w로 미분한 값: 8.0\n",
      "수식을 w로 미분한 값: 10.0\n",
      "수식을 w로 미분한 값: 12.0\n",
      "수식을 w로 미분한 값: 14.0\n",
      "수식을 w로 미분한 값: 16.0\n",
      "수식을 w로 미분한 값: 18.0\n",
      "수식을 w로 미분한 값: 20.0\n",
      "수식을 w로 미분한 값: 22.0\n",
      "수식을 w로 미분한 값: 24.0\n",
      "수식을 w로 미분한 값: 26.0\n",
      "수식을 w로 미분한 값: 28.0\n",
      "수식을 w로 미분한 값: 30.0\n",
      "수식을 w로 미분한 값: 32.0\n",
      "수식을 w로 미분한 값: 34.0\n",
      "수식을 w로 미분한 값: 36.0\n",
      "수식을 w로 미분한 값: 38.0\n",
      "수식을 w로 미분한 값: 40.0\n",
      "수식을 w로 미분한 값: 42.0\n"
     ]
    }
   ],
   "source": [
    "#왜 grad를 zero로 초기화?\n",
    "w = torch.tensor(2.0, requires_grad=True)\n",
    "nb_epochs = 20\n",
    "for epochs in range(nb_epochs+1):\n",
    "    z = 2*w\n",
    "    \n",
    "    z.backward()\n",
    "    print('수식을 w로 미분한 값: {}'.format(w.grad))"
   ]
  },
  {
   "cell_type": "code",
   "execution_count": 29,
   "id": "2c74559d",
   "metadata": {},
   "outputs": [],
   "source": [
    "#위와 같이 미분값 2가 계속해서 누적되는 것을 알 수 있다. 따라서 미분값을 계속 0으로 초기화시켜 주어야 한다."
   ]
  },
  {
   "cell_type": "markdown",
   "id": "529e6901",
   "metadata": {},
   "source": [
    "## _Auto Grad(자동 미분)_  \n",
    "pytorch에서 지원하는 자동 미분 기능"
   ]
  },
  {
   "cell_type": "code",
   "execution_count": 30,
   "id": "5685bfec",
   "metadata": {},
   "outputs": [],
   "source": [
    "import torch"
   ]
  },
  {
   "cell_type": "code",
   "execution_count": 44,
   "id": "91fb1098",
   "metadata": {},
   "outputs": [],
   "source": [
    "w = torch.tensor(2.0, requires_grad=True)"
   ]
  },
  {
   "cell_type": "code",
   "execution_count": 45,
   "id": "f116e558",
   "metadata": {},
   "outputs": [],
   "source": [
    "y = w**2\n",
    "z = 2*y + 5"
   ]
  },
  {
   "cell_type": "code",
   "execution_count": 46,
   "id": "b18b92df",
   "metadata": {},
   "outputs": [],
   "source": [
    "z.backward() #w에 대한 미분(기울기) 계산"
   ]
  },
  {
   "cell_type": "code",
   "execution_count": 47,
   "id": "3b9cc923",
   "metadata": {},
   "outputs": [
    {
     "name": "stdout",
     "output_type": "stream",
     "text": [
      "w로 미분한 값: 8.0\n"
     ]
    }
   ],
   "source": [
    "print('w로 미분한 값: {}'.format(w.grad))"
   ]
  },
  {
   "cell_type": "markdown",
   "id": "f03f7498",
   "metadata": {},
   "source": [
    "## _Multivariable Linear regression_  \n",
    "다중 선형 회귀"
   ]
  },
  {
   "cell_type": "code",
   "execution_count": 48,
   "id": "231df114",
   "metadata": {},
   "outputs": [],
   "source": [
    "#다중 선형 회귀에서는 독립 변수 x가 여러 개임. "
   ]
  },
  {
   "cell_type": "code",
   "execution_count": 50,
   "id": "f91108ad",
   "metadata": {},
   "outputs": [],
   "source": [
    "x1_train = torch.FloatTensor([[73], [93], [89], [96], [73]])\n",
    "x2_train = torch.FloatTensor([[80], [88], [91], [98], [66]])\n",
    "x3_train = torch.FloatTensor([[75], [93], [90], [100], [70]])\n",
    "y_train = torch.FloatTensor([[152], [185], [180], [196], [142]])"
   ]
  },
  {
   "cell_type": "code",
   "execution_count": 51,
   "id": "7580bdfa",
   "metadata": {},
   "outputs": [],
   "source": [
    "w1 = torch.zeros(1, requires_grad=True)\n",
    "w2 = torch.zeros(1, requires_grad=True)\n",
    "w3 = torch.zeros(1, requires_grad=True)\n",
    "b = torch.zeros(1,requires_grad=True)"
   ]
  },
  {
   "cell_type": "code",
   "execution_count": 53,
   "id": "d6d8a346",
   "metadata": {},
   "outputs": [
    {
     "name": "stdout",
     "output_type": "stream",
     "text": [
      "Epoch :    0/1000 w1 : 0.294 w2 : 0.294 w3 : 0.297 b: 0.003 Cost: 29661.800781\n",
      "Epoch :  100/1000 w1 : 0.674 w2 : 0.661 w3 : 0.676 b: 0.008 Cost: 1.563634\n",
      "Epoch :  200/1000 w1 : 0.679 w2 : 0.655 w3 : 0.677 b: 0.008 Cost: 1.497607\n",
      "Epoch :  300/1000 w1 : 0.684 w2 : 0.649 w3 : 0.677 b: 0.008 Cost: 1.435026\n",
      "Epoch :  400/1000 w1 : 0.689 w2 : 0.643 w3 : 0.678 b: 0.008 Cost: 1.375730\n",
      "Epoch :  500/1000 w1 : 0.694 w2 : 0.638 w3 : 0.678 b: 0.009 Cost: 1.319511\n",
      "Epoch :  600/1000 w1 : 0.699 w2 : 0.633 w3 : 0.679 b: 0.009 Cost: 1.266222\n",
      "Epoch :  700/1000 w1 : 0.704 w2 : 0.627 w3 : 0.679 b: 0.009 Cost: 1.215696\n",
      "Epoch :  800/1000 w1 : 0.709 w2 : 0.622 w3 : 0.679 b: 0.009 Cost: 1.167818\n",
      "Epoch :  900/1000 w1 : 0.713 w2 : 0.617 w3 : 0.680 b: 0.009 Cost: 1.122429\n",
      "Epoch : 1000/1000 w1 : 0.718 w2 : 0.613 w3 : 0.680 b: 0.009 Cost: 1.079378\n"
     ]
    }
   ],
   "source": [
    "optimizer = optim.SGD([w1,w2,w3,b],lr=1e-5)\n",
    "nb_epochs=1000\n",
    "for epoch in range(nb_epochs+1):\n",
    "    hypothesis = x1_train * w1 + x2_train * w2 + x3_train * w3 + b\n",
    "    cost = torch.mean((hypothesis- y_train)**2)\n",
    "    \n",
    "    optimizer.zero_grad()\n",
    "    cost.backward()\n",
    "    optimizer.step()\n",
    "    \n",
    "    if epoch % 100 == 0:\n",
    "        print('Epoch : {:4d}/{} w1 : {:.3f} w2 : {:.3f} w3 : {:.3f} b: {:.3f} Cost: {:.6f}'.format(epoch,nb_epochs,w1.item(),w2.item(),w3.item(),b.item(),cost.item()))"
   ]
  },
  {
   "cell_type": "markdown",
   "id": "5f09933f",
   "metadata": {},
   "source": [
    "## _벡터와 행렬 연산으로 바꾸기_"
   ]
  },
  {
   "cell_type": "code",
   "execution_count": 54,
   "id": "bbe7cdd9",
   "metadata": {},
   "outputs": [],
   "source": [
    "#x의 개수가 많아진다면 일일히 선언하기 어려움. 즉 벡터의 내적(곱셈) 을 이용."
   ]
  },
  {
   "cell_type": "code",
   "execution_count": 55,
   "id": "89ebfb51",
   "metadata": {},
   "outputs": [],
   "source": [
    "x_train = torch.FloatTensor([[73,  80,  75], \n",
    "                               [93,  88,  93], \n",
    "                               [89,  91,  80], \n",
    "                               [96,  98,  100],   \n",
    "                               [73,  66,  70]])\n",
    "y_train  =  torch.FloatTensor([[152],  [185],  [180],  [196],  [142]])\n",
    "#x_train에 5x3 행렬 한번에 선언"
   ]
  },
  {
   "cell_type": "code",
   "execution_count": 56,
   "id": "ac1bc03a",
   "metadata": {},
   "outputs": [
    {
     "name": "stdout",
     "output_type": "stream",
     "text": [
      "torch.Size([5, 3])\n",
      "torch.Size([5, 1])\n"
     ]
    }
   ],
   "source": [
    "print(x_train.shape)\n",
    "print(y_train.shape)"
   ]
  },
  {
   "cell_type": "code",
   "execution_count": 57,
   "id": "41f164be",
   "metadata": {},
   "outputs": [],
   "source": [
    "#가중치 W, 편향 b 선언\n",
    "W = torch.zeros((3,1),requires_grad=True) #가중치의 크기를 벡터로 선언\n",
    "b = torch.zeros(1,requires_grad=True)"
   ]
  },
  {
   "cell_type": "code",
   "execution_count": 58,
   "id": "f0a1e124",
   "metadata": {},
   "outputs": [],
   "source": [
    "hypothesis = x_train.matmul(W)+b"
   ]
  },
  {
   "cell_type": "code",
   "execution_count": 59,
   "id": "f03a25b3",
   "metadata": {},
   "outputs": [
    {
     "name": "stdout",
     "output_type": "stream",
     "text": [
      "Epoch    0/20 hypothesis: tensor([0., 0., 0., 0., 0.]) Cost: 29661.800781\n",
      "Epoch    1/20 hypothesis: tensor([66.7178, 80.1701, 76.1025, 86.0194, 61.1565]) Cost: 9537.694336\n",
      "Epoch    2/20 hypothesis: tensor([104.5421, 125.6208, 119.2478, 134.7861,  95.8280]) Cost: 3069.590820\n",
      "Epoch    3/20 hypothesis: tensor([125.9858, 151.3882, 143.7087, 162.4333, 115.4844]) Cost: 990.670288\n",
      "Epoch    4/20 hypothesis: tensor([138.1429, 165.9963, 157.5768, 178.1071, 126.6283]) Cost: 322.481873\n",
      "Epoch    5/20 hypothesis: tensor([145.0350, 174.2780, 165.4395, 186.9928, 132.9461]) Cost: 107.717064\n",
      "Epoch    6/20 hypothesis: tensor([148.9423, 178.9730, 169.8976, 192.0301, 136.5279]) Cost: 38.687496\n",
      "Epoch    7/20 hypothesis: tensor([151.1574, 181.6346, 172.4254, 194.8856, 138.5585]) Cost: 16.499043\n",
      "Epoch    8/20 hypothesis: tensor([152.4131, 183.1435, 173.8590, 196.5043, 139.7097]) Cost: 9.365656\n",
      "Epoch    9/20 hypothesis: tensor([153.1250, 183.9988, 174.6723, 197.4217, 140.3625]) Cost: 7.071114\n",
      "Epoch   10/20 hypothesis: tensor([153.5285, 184.4835, 175.1338, 197.9415, 140.7325]) Cost: 6.331847\n",
      "Epoch   11/20 hypothesis: tensor([153.7572, 184.7582, 175.3958, 198.2360, 140.9424]) Cost: 6.092532\n",
      "Epoch   12/20 hypothesis: tensor([153.8868, 184.9138, 175.5449, 198.4026, 141.0613]) Cost: 6.013817\n",
      "Epoch   13/20 hypothesis: tensor([153.9602, 185.0019, 175.6299, 198.4969, 141.1288]) Cost: 5.986785\n",
      "Epoch   14/20 hypothesis: tensor([154.0017, 185.0517, 175.6785, 198.5500, 141.1671]) Cost: 5.976325\n",
      "Epoch   15/20 hypothesis: tensor([154.0252, 185.0798, 175.7065, 198.5800, 141.1888]) Cost: 5.971208\n",
      "Epoch   16/20 hypothesis: tensor([154.0385, 185.0956, 175.7229, 198.5966, 141.2012]) Cost: 5.967835\n",
      "Epoch   17/20 hypothesis: tensor([154.0459, 185.1045, 175.7326, 198.6059, 141.2082]) Cost: 5.964969\n",
      "Epoch   18/20 hypothesis: tensor([154.0501, 185.1094, 175.7386, 198.6108, 141.2122]) Cost: 5.962291\n",
      "Epoch   19/20 hypothesis: tensor([154.0524, 185.1120, 175.7424, 198.6134, 141.2145]) Cost: 5.959664\n",
      "Epoch   20/20 hypothesis: tensor([154.0536, 185.1134, 175.7451, 198.6145, 141.2158]) Cost: 5.957089\n"
     ]
    }
   ],
   "source": [
    "optimizer = optim.SGD([W, b], lr=1e-5)\n",
    "nb_epochs=20\n",
    "for epoch in range(nb_epochs+1):\n",
    "    hypothesis = x_train.matmul(W)+b\n",
    "    cost = torch.mean((hypothesis - y_train)**2)\n",
    "    \n",
    "    optimizer.zero_grad()\n",
    "    cost.backward()\n",
    "    optimizer.step()\n",
    "    \n",
    "    print('Epoch {:4d}/{} hypothesis: {} Cost: {:.6f}'.format(\n",
    "        epoch, nb_epochs, hypothesis.squeeze().detach(), cost.item()\n",
    "    ))\n"
   ]
  },
  {
   "cell_type": "code",
   "execution_count": null,
   "id": "c0694daf",
   "metadata": {},
   "outputs": [],
   "source": []
  }
 ],
 "metadata": {
  "kernelspec": {
   "display_name": "Python 3 (ipykernel)",
   "language": "python",
   "name": "python3"
  },
  "language_info": {
   "codemirror_mode": {
    "name": "ipython",
    "version": 3
   },
   "file_extension": ".py",
   "mimetype": "text/x-python",
   "name": "python",
   "nbconvert_exporter": "python",
   "pygments_lexer": "ipython3",
   "version": "3.9.12"
  }
 },
 "nbformat": 4,
 "nbformat_minor": 5
}
