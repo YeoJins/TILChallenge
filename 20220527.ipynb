{
 "cells": [
  {
   "cell_type": "markdown",
   "id": "e479fa33",
   "metadata": {},
   "source": [
    "## 소프트맥스 회귀의 비용 함수 구현하기(low-level)"
   ]
  },
  {
   "cell_type": "code",
   "execution_count": 1,
   "id": "323454b1",
   "metadata": {},
   "outputs": [],
   "source": [
    "import torch\n",
    "import torch.nn.functional as F"
   ]
  },
  {
   "cell_type": "code",
   "execution_count": 2,
   "id": "98c1ad81",
   "metadata": {},
   "outputs": [
    {
     "data": {
      "text/plain": [
       "<torch._C.Generator at 0x7f7c71938cd0>"
      ]
     },
     "execution_count": 2,
     "metadata": {},
     "output_type": "execute_result"
    }
   ],
   "source": [
    "torch.manual_seed(1)"
   ]
  },
  {
   "cell_type": "code",
   "execution_count": 4,
   "id": "abd7d4e5",
   "metadata": {},
   "outputs": [],
   "source": [
    "z = torch.FloatTensor([1,2,3]) #3개의 원소를 가진 벡터 텐서"
   ]
  },
  {
   "cell_type": "code",
   "execution_count": 5,
   "id": "e588271d",
   "metadata": {},
   "outputs": [
    {
     "name": "stdout",
     "output_type": "stream",
     "text": [
      "tensor([0.0900, 0.2447, 0.6652])\n"
     ]
    }
   ],
   "source": [
    "hypothesis = F.softmax(z, dim=0) #이 텐서를 소프트맥스 함수의 입력값으로 사용\n",
    "print(hypothesis)"
   ]
  },
  {
   "cell_type": "markdown",
   "id": "79387d4f",
   "metadata": {},
   "source": [
    "결과값이 0과 1 사이의 벡터로 변환된 것을 확인할 수 있음. 합이 1인지도 확인"
   ]
  },
  {
   "cell_type": "code",
   "execution_count": 6,
   "id": "56c2343d",
   "metadata": {},
   "outputs": [
    {
     "data": {
      "text/plain": [
       "tensor(1.)"
      ]
     },
     "execution_count": 6,
     "metadata": {},
     "output_type": "execute_result"
    }
   ],
   "source": [
    "hypothesis.sum()"
   ]
  },
  {
   "cell_type": "code",
   "execution_count": 8,
   "id": "b2de6824",
   "metadata": {},
   "outputs": [],
   "source": [
    "#비용함수 직접 구현\n",
    "z = torch.rand(3, 5, requires_grad=True) #임의의 3x5 행렬 크기의 텐서"
   ]
  },
  {
   "cell_type": "code",
   "execution_count": 9,
   "id": "f72eaa8e",
   "metadata": {},
   "outputs": [
    {
     "name": "stdout",
     "output_type": "stream",
     "text": [
      "tensor([[0.1664, 0.1871, 0.1737, 0.2695, 0.2033],\n",
      "        [0.2002, 0.1783, 0.2218, 0.1944, 0.2054],\n",
      "        [0.1809, 0.2380, 0.2318, 0.1084, 0.2409]], grad_fn=<SoftmaxBackward0>)\n"
     ]
    }
   ],
   "source": [
    "hypothesis = F.softmax(z,dim=1) #두 번째 차원에 함수를 적용한다는 의미로 dim=1\n",
    "print(hypothesis)"
   ]
  },
  {
   "cell_type": "markdown",
   "id": "561bdc2e",
   "metadata": {},
   "source": [
    "위의 텐서는 3개의 샘플에 대해서 5개의 클래스 중 어떤 클래스가 정답인지를 예측한 결과"
   ]
  },
  {
   "cell_type": "code",
   "execution_count": 12,
   "id": "31b66ebc",
   "metadata": {},
   "outputs": [
    {
     "name": "stdout",
     "output_type": "stream",
     "text": [
      "tensor([3, 2, 3])\n"
     ]
    }
   ],
   "source": [
    "y = torch.randint(5,(3,)).long() #임의 레이블 만듬\n",
    "print(y)"
   ]
  },
  {
   "cell_type": "code",
   "execution_count": 13,
   "id": "cb2231c4",
   "metadata": {},
   "outputs": [
    {
     "data": {
      "text/plain": [
       "tensor([[0., 0., 0., 1., 0.],\n",
       "        [0., 0., 1., 0., 0.],\n",
       "        [0., 0., 0., 1., 0.]])"
      ]
     },
     "execution_count": 13,
     "metadata": {},
     "output_type": "execute_result"
    }
   ],
   "source": [
    "#각 레이블에 대해서 원-핫 인코딩 수행\n",
    "y_one_hot = torch.zeros_like(hypothesis)  #모든 원소가 0인 3x5 텐서 생성\n",
    "y_one_hot.scatter_(1, y.unsqueeze(1), 1) #unsqueeze(1)를 함으로서 3,크기였던 텐서는 3x1이 됨"
   ]
  },
  {
   "cell_type": "code",
   "execution_count": 14,
   "id": "422f2d93",
   "metadata": {},
   "outputs": [
    {
     "name": "stdout",
     "output_type": "stream",
     "text": [
      "tensor([[3],\n",
      "        [2],\n",
      "        [3]])\n"
     ]
    }
   ],
   "source": [
    "print(y.unsqueeze(1))"
   ]
  },
  {
   "cell_type": "markdown",
   "id": "624973ea",
   "metadata": {},
   "source": [
    "scatter의 인자로 첫번째 dim=1을 넣어주고 세번째 인자에 숫자 1을 넣어줌으로서 두번째 인자인 y.unsqueeze(1)이 알려주는 위치에 1을 넣는다  \n",
    "'_' (언더바)는 덮어쓰기 연산"
   ]
  },
  {
   "cell_type": "code",
   "execution_count": 15,
   "id": "b2bb41bd",
   "metadata": {},
   "outputs": [
    {
     "name": "stdout",
     "output_type": "stream",
     "text": [
      "tensor([[0., 0., 0., 1., 0.],\n",
      "        [0., 0., 1., 0., 0.],\n",
      "        [0., 0., 0., 1., 0.]])\n"
     ]
    }
   ],
   "source": [
    "print(y_one_hot)"
   ]
  },
  {
   "cell_type": "code",
   "execution_count": 17,
   "id": "0d0a83dc",
   "metadata": {},
   "outputs": [
    {
     "name": "stdout",
     "output_type": "stream",
     "text": [
      "tensor(1.6800, grad_fn=<MeanBackward0>)\n"
     ]
    }
   ],
   "source": [
    "#소프트맥스 회귀의 비용함수 구현\n",
    "cost = (y_one_hot * -torch.log(hypothesis)).sum(dim=1).mean()\n",
    "print(cost)"
   ]
  },
  {
   "cell_type": "markdown",
   "id": "ac66ba04",
   "metadata": {},
   "source": [
    "## 소프트맥스 회귀의 비용 함수 구현하기(high-level)"
   ]
  },
  {
   "cell_type": "markdown",
   "id": "c0a47ba1",
   "metadata": {},
   "source": [
    "### 1. F.softmax() + torch.log() = F.log_softmax()"
   ]
  },
  {
   "cell_type": "markdown",
   "id": "4e488945",
   "metadata": {},
   "source": [
    "앞선 코드에서 소프트맥스 함수의 결과에 로그를 씌울 때는 함수의 출력값을 로그 함수의 입력으로 사용하였다."
   ]
  },
  {
   "cell_type": "code",
   "execution_count": 18,
   "id": "32dfba7d",
   "metadata": {},
   "outputs": [
    {
     "data": {
      "text/plain": [
       "tensor([[-1.7935, -1.6760, -1.7504, -1.3114, -1.5929],\n",
       "        [-1.6086, -1.7244, -1.5062, -1.6381, -1.5826],\n",
       "        [-1.7096, -1.4354, -1.4617, -2.2223, -1.4236]], grad_fn=<LogBackward0>)"
      ]
     },
     "execution_count": 18,
     "metadata": {},
     "output_type": "execute_result"
    }
   ],
   "source": [
    "torch.log(F.softmax(z, dim=1))"
   ]
  },
  {
   "cell_type": "markdown",
   "id": "b07c6cc9",
   "metadata": {},
   "source": [
    "파이토치에서는 이 두 함수를 결합한 **F.log_softmax()** 라는 도구를 제공한다."
   ]
  },
  {
   "cell_type": "code",
   "execution_count": 19,
   "id": "4aec6e39",
   "metadata": {},
   "outputs": [
    {
     "data": {
      "text/plain": [
       "tensor([[-1.7935, -1.6760, -1.7504, -1.3114, -1.5929],\n",
       "        [-1.6086, -1.7244, -1.5062, -1.6381, -1.5826],\n",
       "        [-1.7096, -1.4354, -1.4617, -2.2223, -1.4236]],\n",
       "       grad_fn=<LogSoftmaxBackward0>)"
      ]
     },
     "execution_count": 19,
     "metadata": {},
     "output_type": "execute_result"
    }
   ],
   "source": [
    "F.log_softmax(z,dim=1)"
   ]
  },
  {
   "cell_type": "markdown",
   "id": "4cab21f6",
   "metadata": {},
   "source": [
    "### 2. F.log_softmax() + F.nll_loss() = F.cross_entropy()"
   ]
  },
  {
   "cell_type": "code",
   "execution_count": 20,
   "id": "03c29a4e",
   "metadata": {},
   "outputs": [
    {
     "data": {
      "text/plain": [
       "tensor(1.6800, grad_fn=<MeanBackward0>)"
      ]
     },
     "execution_count": 20,
     "metadata": {},
     "output_type": "execute_result"
    }
   ],
   "source": [
    "(y_one_hot * -torch.log(F.softmax(z, dim=1))).sum(dim=1).mean() #low-level로 구현한 비용 함수"
   ]
  },
  {
   "cell_type": "code",
   "execution_count": 21,
   "id": "f41b02dd",
   "metadata": {},
   "outputs": [
    {
     "data": {
      "text/plain": [
       "tensor(1.6800, grad_fn=<MeanBackward0>)"
      ]
     },
     "execution_count": 21,
     "metadata": {},
     "output_type": "execute_result"
    }
   ],
   "source": [
    "(y_one_hot * - F.log_softmax(z, dim=1)).sum(dim=1).mean() #위에서 배운 함수로 대체"
   ]
  },
  {
   "cell_type": "code",
   "execution_count": 22,
   "id": "888c5a89",
   "metadata": {},
   "outputs": [
    {
     "data": {
      "text/plain": [
       "tensor(1.6800, grad_fn=<NllLossBackward0>)"
      ]
     },
     "execution_count": 22,
     "metadata": {},
     "output_type": "execute_result"
    }
   ],
   "source": [
    "F.nll_loss(F.log_softmax(z, dim=1), y) #nll_loss를 사용할 때에는 원-핫 벡터 없이 바로 실제값을 인자로 사용한다"
   ]
  },
  {
   "cell_type": "markdown",
   "id": "3807db67",
   "metadata": {},
   "source": [
    "nll은 Negative Log likelihood의 약자이다. 위에서 nll_loss는 F.log_softmax를 수행한 후에 남은 수식들을 수행한다. "
   ]
  },
  {
   "cell_type": "code",
   "execution_count": 25,
   "id": "cb57ba9d",
   "metadata": {},
   "outputs": [
    {
     "data": {
      "text/plain": [
       "tensor(1.6800, grad_fn=<NllLossBackward0>)"
      ]
     },
     "execution_count": 25,
     "metadata": {},
     "output_type": "execute_result"
    }
   ],
   "source": [
    "F.cross_entropy(z, y) #crooss_entropy는 log_softmax와 nll_loss를 포함한다"
   ]
  },
  {
   "cell_type": "code",
   "execution_count": null,
   "id": "ffc90103",
   "metadata": {},
   "outputs": [],
   "source": []
  }
 ],
 "metadata": {
  "kernelspec": {
   "display_name": "Python 3 (ipykernel)",
   "language": "python",
   "name": "python3"
  },
  "language_info": {
   "codemirror_mode": {
    "name": "ipython",
    "version": 3
   },
   "file_extension": ".py",
   "mimetype": "text/x-python",
   "name": "python",
   "nbconvert_exporter": "python",
   "pygments_lexer": "ipython3",
   "version": "3.9.12"
  }
 },
 "nbformat": 4,
 "nbformat_minor": 5
}
