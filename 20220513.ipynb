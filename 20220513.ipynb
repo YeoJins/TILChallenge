
{
 "cells": [
  {
   "cell_type": "markdown",
   "id": "de67185e",
   "metadata": {},
   "source": [
    "## _install pytorch_"
   ]
  },
  {
   "cell_type": "code",
   "execution_count": 2,
   "id": "87ea3917",
   "metadata": {},
   "outputs": [
    {
     "name": "stdout",
     "output_type": "stream",
     "text": [
      "Collecting package metadata (current_repodata.json): done\n",
      "Solving environment: done\n",
      "\n",
      "## Package Plan ##\n",
      "\n",
      "  environment location: /Users/song-yeojin/opt/anaconda3\n",
      "\n",
      "  added / updated specs:\n",
      "    - pytorch\n",
      "    - torchvision\n",
      "\n",
      "\n",
      "The following packages will be downloaded:\n",
      "\n",
      "    package                    |            build\n",
      "    ---------------------------|-----------------\n",
      "    ffmpeg-4.3                 |       h0a44026_0        10.1 MB  pytorch\n",
      "    gettext-0.21.0             |       h7535e17_0         2.6 MB\n",
      "    gnutls-3.6.15              |       hed9c0bf_0         974 KB\n",
      "    lame-3.100                 |       h1de35cc_0         316 KB\n",
      "    libtasn1-4.16.0            |       h9ed2024_0          53 KB\n",
      "    libuv-1.40.0               |       haf1e3a3_0         334 KB\n",
      "    nettle-3.7.3               |       h230ac6f_1         380 KB\n",
      "    openh264-2.1.1             |       h8346a28_0         655 KB\n",
      "    pytorch-1.11.0             |          py3.9_0        70.0 MB  pytorch\n",
      "    torchvision-0.12.0         |         py39_cpu         7.2 MB  pytorch\n",
      "    ------------------------------------------------------------\n",
      "                                           Total:        92.5 MB\n",
      "\n",
      "The following NEW packages will be INSTALLED:\n",
      "\n",
      "  ffmpeg             pytorch/osx-64::ffmpeg-4.3-h0a44026_0\n",
      "  gettext            pkgs/main/osx-64::gettext-0.21.0-h7535e17_0\n",
      "  gnutls             pkgs/main/osx-64::gnutls-3.6.15-hed9c0bf_0\n",
      "  lame               pkgs/main/osx-64::lame-3.100-h1de35cc_0\n",
      "  libtasn1           pkgs/main/osx-64::libtasn1-4.16.0-h9ed2024_0\n",
      "  libuv              pkgs/main/osx-64::libuv-1.40.0-haf1e3a3_0\n",
      "  nettle             pkgs/main/osx-64::nettle-3.7.3-h230ac6f_1\n",
      "  openh264           pkgs/main/osx-64::openh264-2.1.1-h8346a28_0\n",
      "  pytorch            pytorch/osx-64::pytorch-1.11.0-py3.9_0\n",
      "  torchvision        pytorch/osx-64::torchvision-0.12.0-py39_cpu\n",
      "\n",
      "\n",
      "\n",
      "Downloading and Extracting Packages\n",
      "nettle-3.7.3         | 380 KB    | ##################################### | 100% \n",
      "gettext-0.21.0       | 2.6 MB    | ##################################### | 100% \n",
      "libuv-1.40.0         | 334 KB    | ##################################### | 100% \n",
      "pytorch-1.11.0       | 70.0 MB   | ##################################### | 100% \n",
      "libtasn1-4.16.0      | 53 KB     | ##################################### | 100% \n",
      "ffmpeg-4.3           | 10.1 MB   | ##################################### | 100% \n",
      "lame-3.100           | 316 KB    | ##################################### | 100% \n",
      "torchvision-0.12.0   | 7.2 MB    | ##################################### | 100% \n",
      "openh264-2.1.1       | 655 KB    | ##################################### | 100% \n",
      "gnutls-3.6.15        | 974 KB    | ##################################### | 100% \n",
      "Preparing transaction: done\n",
      "Verifying transaction: done\n",
      "Executing transaction: done\n",
      "\n",
      "Note: you may need to restart the kernel to use updated packages.\n"
     ]
    }
   ],
   "source": [
    "conda install pytorch torchvision -c pytorch"
   ]
  },
  {
   "cell_type": "code",
   "execution_count": 1,
   "id": "cb9a53db",
   "metadata": {},
   "outputs": [],
   "source": [
    "import torch"
   ]
  },
  {
   "cell_type": "code",
   "execution_count": 3,
   "id": "b8dae013",
   "metadata": {},
   "outputs": [],
   "source": [
    "import numpy as np"
   ]
  },
  {
   "cell_type": "code",
   "execution_count": 5,
   "id": "ab66bacc",
   "metadata": {},
   "outputs": [],
   "source": [
    "x = torch.Tensor([[1,2],[3,4]])\n",
    "x = torch.from_numpy(np.array([[1,2],[3,4]]))"
   ]
  },
  {
   "cell_type": "code",
   "execution_count": 6,
   "id": "363fa444",
   "metadata": {},
   "outputs": [
    {
     "data": {
      "text/plain": [
       "tensor([[1, 2],\n",
       "        [3, 4]])"
      ]
     },
     "execution_count": 6,
     "metadata": {},
     "output_type": "execute_result"
    }
   ],
   "source": [
    "x"
   ]
  },
  {
   "cell_type": "code",
   "execution_count": 7,
   "id": "19d21341",
   "metadata": {},
   "outputs": [],
   "source": [
    "x = np.array([[1,2],[3,4]])"
   ]
  },
  {
   "cell_type": "code",
   "execution_count": 8,
   "id": "d9719faf",
   "metadata": {},
   "outputs": [
    {
     "data": {
      "text/plain": [
       "array([[1, 2],\n",
       "       [3, 4]])"
      ]
     },
     "execution_count": 8,
     "metadata": {},
     "output_type": "execute_result"
    }
   ],
   "source": [
    "x"
   ]
  },
  {
   "cell_type": "code",
   "execution_count": 11,
   "id": "97448176",
   "metadata": {},
   "outputs": [
    {
     "name": "stdout",
     "output_type": "stream",
     "text": [
      "tensor([0., 1., 2., 3., 4., 5., 6.])\n"
     ]
    }
   ],
   "source": [
    "t = torch.FloatTensor([0., 1., 2., 3., 4., 5., 6.])\n",
    "print(t)"
   ]
  },
  {
   "cell_type": "code",
   "execution_count": 12,
   "id": "8724d843",
   "metadata": {},
   "outputs": [
    {
     "name": "stdout",
     "output_type": "stream",
     "text": [
      "1\n",
      "torch.Size([7])\n",
      "torch.Size([7])\n"
     ]
    }
   ],
   "source": [
    "print(t.dim()) #rank\n",
    "print(t.shape)\n",
    "print(t.size())"
   ]
  },
  {
   "cell_type": "markdown",
   "id": "5035256d",
   "metadata": {},
   "source": [
    "## _vector slicing_"
   ]
  },
  {
   "cell_type": "code",
   "execution_count": 13,
   "id": "8e44d2e5",
   "metadata": {},
   "outputs": [
    {
     "name": "stdout",
     "output_type": "stream",
     "text": [
      "tensor(0.) tensor(1.) tensor(6.)\n",
      "tensor([2., 3., 4.]) tensor([4., 5.])\n",
      "tensor([0., 1.]) tensor([3., 4., 5., 6.])\n"
     ]
    }
   ],
   "source": [
    "print(t[0],t[1],t[-1]) #index\n",
    "print(t[2:5],t[4:-1])\n",
    "print(t[:2],t[3:])"
   ]
  },
  {
   "cell_type": "code",
   "execution_count": 14,
   "id": "03599fdd",
   "metadata": {},
   "outputs": [
    {
     "name": "stdout",
     "output_type": "stream",
     "text": [
      "tensor([[ 1.,  2.,  3.],\n",
      "        [ 4.,  5.,  6.],\n",
      "        [ 7.,  8.,  9.],\n",
      "        [10., 11., 12.]])\n"
     ]
    }
   ],
   "source": [
    "t = torch.FloatTensor([[1., 2., 3.],\n",
    "                       [4., 5., 6.],\n",
    "                       [7., 8., 9.],\n",
    "                       [10., 11., 12.]\n",
    "                      ])\n",
    "print(t)"
   ]
  },
  {
   "cell_type": "code",
   "execution_count": 15,
   "id": "e6eb0fe8",
   "metadata": {},
   "outputs": [
    {
     "name": "stdout",
     "output_type": "stream",
     "text": [
      "2\n",
      "torch.Size([4, 3])\n"
     ]
    }
   ],
   "source": [
    "print(t.dim())\n",
    "print(t.shape)"
   ]
  },
  {
   "cell_type": "code",
   "execution_count": 16,
   "id": "58bacb60",
   "metadata": {},
   "outputs": [
    {
     "name": "stdout",
     "output_type": "stream",
     "text": [
      "tensor([ 2.,  5.,  8., 11.])\n",
      "torch.Size([4])\n"
     ]
    }
   ],
   "source": [
    "print(t[:,1]) #첫번째 차원 전체선택, 2번째 것만 가져옴\n",
    "print(t[:,1].shape)"
   ]
  },
  {
   "cell_type": "code",
   "execution_count": 17,
   "id": "e06d20d3",
   "metadata": {},
   "outputs": [
    {
     "name": "stdout",
     "output_type": "stream",
     "text": [
      "tensor([[ 1.,  2.],\n",
      "        [ 4.,  5.],\n",
      "        [ 7.,  8.],\n",
      "        [10., 11.]])\n"
     ]
    }
   ],
   "source": [
    "print(t[:,:-1])"
   ]
  },
  {
   "cell_type": "markdown",
   "id": "6b6d9d46",
   "metadata": {},
   "source": [
    "## _broadcasting_  \n",
    "행렬간 연산을 할 때 자동으로 크기를 맞춰서 연산을 수행하게 해주는 기능"
   ]
  },
  {
   "cell_type": "code",
   "execution_count": 18,
   "id": "62b84935",
   "metadata": {},
   "outputs": [
    {
     "name": "stdout",
     "output_type": "stream",
     "text": [
      "tensor([[5., 5.]])\n"
     ]
    }
   ],
   "source": [
    "m1 = torch.FloatTensor([[3,3]])\n",
    "m2 = torch.FloatTensor([[2,2]])\n",
    "print(m1 + m2)"
   ]
  },
  {
   "cell_type": "code",
   "execution_count": 20,
   "id": "ae41a247",
   "metadata": {},
   "outputs": [
    {
     "name": "stdout",
     "output_type": "stream",
     "text": [
      "tensor([[6., 6.]])\n"
     ]
    }
   ],
   "source": [
    "#vector + scalar\n",
    "m1 = torch.FloatTensor([[3,3]])\n",
    "m2 = torch.FloatTensor([3]) #broadcasting으로 인해 3,3 vector로 인식\n",
    "print(m1 + m2)"
   ]
  },
  {
   "cell_type": "markdown",
   "id": "566ce720",
   "metadata": {},
   "source": [
    "연산 과정에서 [1,2] -> [1,2],[1,2]  \n",
    "[3],[4] - > [3,3],[4,4] 로 변경"
   ]
  },
  {
   "cell_type": "code",
   "execution_count": 22,
   "id": "f4185191",
   "metadata": {},
   "outputs": [
    {
     "name": "stdout",
     "output_type": "stream",
     "text": [
      "tensor([[4., 5.],\n",
      "        [5., 6.]])\n"
     ]
    }
   ],
   "source": [
    "# 2 by 1 vector + 1 by 2 vector\n",
    "m1 = torch.FloatTensor([[1,2]]) #1 by 2 vector\n",
    "m2 = torch.FloatTensor([[3],[4]]) #2 by 1 vector\n",
    "print(m1 + m2)"
   ]
  },
  {
   "cell_type": "markdown",
   "id": "c77e0742",
   "metadata": {},
   "source": [
    "## _Matrix Multiplication_"
   ]
  },
  {
   "cell_type": "code",
   "execution_count": 24,
   "id": "b90cc41f",
   "metadata": {},
   "outputs": [
    {
     "name": "stdout",
     "output_type": "stream",
     "text": [
      "Shape of m1 matrix: torch.Size([2, 2])\n",
      "Shape of m2 matrix: torch.Size([2, 1])\n",
      "tensor([[ 5.],\n",
      "        [11.]])\n"
     ]
    }
   ],
   "source": [
    "m1 = torch.FloatTensor([[1,2],[3,4]])#2 by 2\n",
    "m2 = torch.FloatTensor([[1],[2]])#2 by 1\n",
    "print(\"Shape of m1 matrix:\",m1.shape)\n",
    "print(\"Shape of m2 matrix:\",m2.shape)\n",
    "print(m1.matmul(m2)) #2 by 1"
   ]
  },
  {
   "cell_type": "markdown",
   "id": "0a696790",
   "metadata": {},
   "source": [
    "### _element-wise multiplication_  \n",
    "동일한 크기의 행렬이 동일한 위치에 있는 원소끼리 곱하는 것"
   ]
  },
  {
   "cell_type": "code",
   "execution_count": 25,
   "id": "9ca7effe",
   "metadata": {},
   "outputs": [
    {
     "name": "stdout",
     "output_type": "stream",
     "text": [
      "Shape of m1 matrix: torch.Size([2, 2])\n",
      "Shape of m2 matrix: torch.Size([2, 1])\n",
      "tensor([[ 3.,  6.],\n",
      "        [12., 16.]])\n",
      "tensor([[ 3.,  6.],\n",
      "        [12., 16.]])\n"
     ]
    }
   ],
   "source": [
    "m1 = torch.FloatTensor([[1,2],[3,4]])\n",
    "m2 = torch.FloatTensor([[3],[4]])\n",
    "print(\"Shape of m1 matrix:\",m1.shape)\n",
    "print(\"Shape of m2 matrix:\",m2.shape)\n",
    "print(m1 * m2)\n",
    "print(m1.mul(m2))"
   ]
  },
  {
   "cell_type": "markdown",
   "id": "22e8e292",
   "metadata": {},
   "source": [
    "broadcasting 이후 곱셈 연산을 수행. [3],[4]->[3,3],[4,4]"
   ]
  },
  {
   "cell_type": "markdown",
   "id": "d69d8e94",
   "metadata": {},
   "source": [
    "## _mean_"
   ]
  },
  {
   "cell_type": "code",
   "execution_count": 26,
   "id": "79026ecb",
   "metadata": {},
   "outputs": [
    {
     "name": "stdout",
     "output_type": "stream",
     "text": [
      "tensor(1.5000)\n"
     ]
    }
   ],
   "source": [
    "t = torch.FloatTensor([1,2])\n",
    "print(t.mean())"
   ]
  },
  {
   "cell_type": "code",
   "execution_count": 28,
   "id": "ab780514",
   "metadata": {},
   "outputs": [
    {
     "name": "stdout",
     "output_type": "stream",
     "text": [
      "tensor(2.5000)\n"
     ]
    }
   ],
   "source": [
    "t = torch.FloatTensor([[1,2],[3,4]])\n",
    "print(t.mean())"
   ]
  },
  {
   "cell_type": "code",
   "execution_count": 29,
   "id": "904f22fa",
   "metadata": {},
   "outputs": [
    {
     "name": "stdout",
     "output_type": "stream",
     "text": [
      "tensor([2., 3.])\n"
     ]
    }
   ],
   "source": [
    "#dim 사용\n",
    "print(t.mean(dim=0)) #dim=0이란 첫번째 차원, 즉 첫번째 행. dim을 인자로 준다는 것은 그 행을 지운다는 것."
   ]
  },
  {
   "cell_type": "code",
   "execution_count": 30,
   "id": "bacb1b6c",
   "metadata": {},
   "outputs": [
    {
     "name": "stdout",
     "output_type": "stream",
     "text": [
      "tensor([1.5000, 3.5000])\n"
     ]
    }
   ],
   "source": [
    "print(t.mean(dim=1)) #열을 지운다"
   ]
  },
  {
   "cell_type": "code",
   "execution_count": 31,
   "id": "a349bbab",
   "metadata": {},
   "outputs": [
    {
     "name": "stdout",
     "output_type": "stream",
     "text": [
      "tensor([1.5000, 3.5000])\n"
     ]
    }
   ],
   "source": [
    "print(t.mean(dim=-1)) # 마지막 차원을 지운다 = 열을 지운다"
   ]
  },
  {
   "cell_type": "markdown",
   "id": "a1070d27",
   "metadata": {},
   "source": [
    "## _sum_"
   ]
  },
  {
   "cell_type": "code",
   "execution_count": 33,
   "id": "5ed4de88",
   "metadata": {},
   "outputs": [
    {
     "name": "stdout",
     "output_type": "stream",
     "text": [
      "tensor(10.)\n"
     ]
    }
   ],
   "source": [
    "t = torch.FloatTensor([[1,2],[3,4]])\n",
    "print(t.sum())"
   ]
  },
  {
   "cell_type": "code",
   "execution_count": 36,
   "id": "940c9e82",
   "metadata": {},
   "outputs": [
    {
     "name": "stdout",
     "output_type": "stream",
     "text": [
      "tensor([4., 6.])\n",
      "tensor([3., 7.])\n",
      "tensor([3., 7.])\n"
     ]
    }
   ],
   "source": [
    "print(t.sum(dim=0))\n",
    "print(t.sum(dim=1))\n",
    "print(t.sum(dim=-1))"
   ]
  },
  {
   "cell_type": "markdown",
   "id": "7c89078a",
   "metadata": {},
   "source": [
    "## _Max & ArgMax_  \n",
    "max는 원소의 최댓값을 리턴하고, argmax는 최댓값의 인덱스를 리턴한다."
   ]
  },
  {
   "cell_type": "code",
   "execution_count": 37,
   "id": "e48bf2f9",
   "metadata": {},
   "outputs": [],
   "source": [
    "t = torch.FloatTensor([[1, 2], [3, 4]])"
   ]
  },
  {
   "cell_type": "code",
   "execution_count": 38,
   "id": "49271042",
   "metadata": {},
   "outputs": [
    {
     "name": "stdout",
     "output_type": "stream",
     "text": [
      "tensor(4.)\n"
     ]
    }
   ],
   "source": [
    "print(t.max())"
   ]
  },
  {
   "cell_type": "code",
   "execution_count": 39,
   "id": "99a33115",
   "metadata": {},
   "outputs": [
    {
     "name": "stdout",
     "output_type": "stream",
     "text": [
      "torch.return_types.max(\n",
      "values=tensor([3., 4.]),\n",
      "indices=tensor([1, 1]))\n"
     ]
    }
   ],
   "source": [
    "print(t.max(dim=0)) #max에 dim인자를 주면 argmax도 함께 리턴됨. "
   ]
  },
  {
   "cell_type": "code",
   "execution_count": 40,
   "id": "e09c385c",
   "metadata": {},
   "outputs": [
    {
     "name": "stdout",
     "output_type": "stream",
     "text": [
      "Max:  tensor([3., 4.])\n",
      "Argmax:  tensor([1, 1])\n"
     ]
    }
   ],
   "source": [
    "print('Max: ', t.max(dim=0)[0])\n",
    "print('Argmax: ', t.max(dim=0)[1]) #리턴값에 인덱스를 부여하면 원하는 값만 출력 가능"
   ]
  },
  {
   "cell_type": "code",
   "execution_count": 41,
   "id": "08db47d6",
   "metadata": {},
   "outputs": [
    {
     "name": "stdout",
     "output_type": "stream",
     "text": [
      "torch.return_types.max(\n",
      "values=tensor([2., 4.]),\n",
      "indices=tensor([1, 1]))\n",
      "torch.return_types.max(\n",
      "values=tensor([2., 4.]),\n",
      "indices=tensor([1, 1]))\n"
     ]
    }
   ],
   "source": [
    "print(t.max(dim=1))\n",
    "print(t.max(dim=-1))"
   ]
  }
 ],
 "metadata": {
  "kernelspec": {
   "display_name": "Python 3 (ipykernel)",
   "language": "python",
   "name": "python3"
  },
  "language_info": {
   "codemirror_mode": {
    "name": "ipython",
    "version": 3
   },
   "file_extension": ".py",
   "mimetype": "text/x-python",
   "name": "python",
   "nbconvert_exporter": "python",
   "pygments_lexer": "ipython3",
   "version": "3.9.12"
  }
 },
 "nbformat": 4,
 "nbformat_minor": 5
}
